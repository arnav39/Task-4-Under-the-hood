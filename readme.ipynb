{
 "cells": [
  {
   "cell_type": "markdown",
   "id": "e9b2dbe3",
   "metadata": {},
   "source": [
    "README \n",
    "* At first we load the data using pandas \n",
    "* Then we randomize data and segregate into 2 one for thraining and one for prediction using trained model\n"
   ]
  },
  {
   "cell_type": "markdown",
   "id": "0905f0b5",
   "metadata": {},
   "source": [
    "Our NN will have a simple two-layer architecture. Input layer a[0] will have 784 units corresponding \n",
    "to the 784 pixels in each 28x28 input image. A hidden layer a[1] will have 10 units with ReLU activation,\n",
    "and finally our output layer a[2] will have 10 units corresponding to the ten digit classes with softmax activation.\n",
    "\n",
    "Forward propagation\n",
    "\n",
    "Z[1]=W[1]X+b[1]\n",
    "A[1]=gReLU(Z[1]))\n",
    "Z[2]=W[2]A[1]+b[2]\n",
    "A[2]=gsoftmax(Z[2])\n",
    " \n",
    "Backward propagation\n",
    "\n",
    "dZ[2]=A[2]−Y\n",
    "dW[2]=1mdZ[2]A[1]T\n",
    "dB[2]=1mΣdZ[2]\n",
    "dZ[1]=W[2]TdZ[2].∗g[1]′(z[1])\n",
    "dW[1]=1mdZ[1]A[0]T\n",
    "dB[1]=1mΣdZ[1]\n",
    "Parameter updates\n",
    "\n",
    "W[2]:=W[2]−αdW[2]\n",
    "b[2]:=b[2]−αdb[2]\n",
    "W[1]:=W[1]−αdW[1]\n",
    "b[1]:=b[1]−αdb[1]\n",
    "Vars and shapes\n",
    "\n",
    "Forward prop\n",
    "\n",
    "A[0]=X: 784 x m\n",
    "Z[1]∼A[1]: 10 x m\n",
    "W[1]: 10 x 784 (as W[1]A[0]∼Z[1])\n",
    "B[1]: 10 x 1\n",
    "Z[2]∼A[2]: 10 x m\n",
    "W[1]: 10 x 10 (as W[2]A[1]∼Z[2])\n",
    "B[2]: 10 x 1\n",
    "Backprop\n",
    "\n",
    "dZ[2]: 10 x m ( A[2])\n",
    "dW[2]: 10 x 10\n",
    "dB[2]: 10 x 1\n",
    "dZ[1]: 10 x m ( A[1])\n",
    "dW[1]: 10 x 10\n",
    "dB[1]: 10 x 1"
   ]
  },
  {
   "cell_type": "markdown",
   "id": "f5d14826",
   "metadata": {},
   "source": [
    "At first we train our data using the set and forward propagation to yeild results then check with original layer \n",
    "then we check error and accordingly backtrace to update parameters .\n"
   ]
  },
  {
   "cell_type": "markdown",
   "id": "3a3fdb68",
   "metadata": {},
   "source": [
    "Just like gradient descent in supervised learning we have we make predictions \n",
    "then the deviation from the value is traced back to each node using backprop else it would have been a linear relation between \n",
    "input and output."
   ]
  },
  {
   "cell_type": "markdown",
   "id": "249f084c",
   "metadata": {},
   "source": [
    "softmax func\n",
    "The Softmax function is used for prediction in multi-class models where it returns probabilities of each class in a group of different classes, with the target class having the highest probability. The calculated probabilities are then helpful in determining the target class for the given inputs.\n"
   ]
  },
  {
   "cell_type": "markdown",
   "id": "a02d3ccb",
   "metadata": {},
   "source": [
    "Relu\n",
    "The main idea behind the ReLu activation function is to perform a threshold operation to each input element where values less than zero are set to zero.\n",
    "f(x)={x if x>0\n",
    "        0 if x< 0 }\n"
   ]
  },
  {
   "cell_type": "markdown",
   "id": "01651ed5",
   "metadata": {},
   "source": [
    "Relu and softmax are activation functions in deep learning.\n",
    "In order for neural networks to approximate non-linear or complex functions, there has to be a way to add a non-linear property to the computation of results.\n",
    "Using activation functions serves the purpose of introducing non-linearity into the model. This makes it possible for the deep learning models to find complex patterns in data.\n"
   ]
  },
  {
   "cell_type": "markdown",
   "id": "10c56199",
   "metadata": {},
   "source": [
    "Then updating parameters is just like gradient descent and derivatives of cost function\n",
    "\n",
    "\n",
    "then finally we get a accuracy of ~87.4 percent at 1000 iterations \n",
    "and we check the sgregated data using this trained model now and get an accuracy of87.2"
   ]
  },
  {
   "cell_type": "code",
   "execution_count": null,
   "id": "39f56045",
   "metadata": {},
   "outputs": [],
   "source": []
  }
 ],
 "metadata": {
  "kernelspec": {
   "display_name": "Python 3 (ipykernel)",
   "language": "python",
   "name": "python3"
  },
  "language_info": {
   "codemirror_mode": {
    "name": "ipython",
    "version": 3
   },
   "file_extension": ".py",
   "mimetype": "text/x-python",
   "name": "python",
   "nbconvert_exporter": "python",
   "pygments_lexer": "ipython3",
   "version": "3.9.12"
  }
 },
 "nbformat": 4,
 "nbformat_minor": 5
}
